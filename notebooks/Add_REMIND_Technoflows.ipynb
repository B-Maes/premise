{
 "cells": [
  {
   "cell_type": "markdown",
   "metadata": {},
   "source": [
    "# Technosphere flows induced by the REMIND electricity sector\n",
    "\n",
    "We add endpoints to the *biosphere* that reflect technosphere flows. This way we can account for material flows in the REMIND inventory."
   ]
  },
  {
   "cell_type": "code",
   "execution_count": 165,
   "metadata": {},
   "outputs": [],
   "source": [
    "%run initialize_notebook.ipynb"
   ]
  },
  {
   "cell_type": "code",
   "execution_count": 63,
   "metadata": {},
   "outputs": [
    {
     "data": {
      "text/plain": [
       "Databases dictionary with 10 object(s):\n",
       "\tCarma CCS\n",
       "\tInventory flows\n",
       "\tbiosphere3\n",
       "\tecoinvent_3.5\n",
       "\tecoinvent_Remind_BAU_2030\n",
       "\tecoinvent_Remind_BAU_2050\n",
       "\tecoinvent_Remind_RCP26_2030\n",
       "\tecoinvent_Remind_RCP26_2050\n",
       "\tecoinvent_Remind_RCP37_2030\n",
       "\tecoinvent_Remind_RCP37_2050"
      ]
     },
     "execution_count": 63,
     "metadata": {},
     "output_type": "execute_result"
    }
   ],
   "source": [
    "databases"
   ]
  },
  {
   "cell_type": "code",
   "execution_count": 15,
   "metadata": {},
   "outputs": [],
   "source": [
    "eidb = Database(\"ecoinvent_Remind_BAU_2030\")"
   ]
  },
  {
   "cell_type": "code",
   "execution_count": 110,
   "metadata": {},
   "outputs": [
    {
     "name": "stdout",
     "output_type": "stream",
     "text": [
      "Search tech markets for ecoinvent_Remind_BAU_2030.\n",
      "Check for consistent units across technologies.\n",
      "Add inventory flows to database.\n",
      "Add flows to activities.\n",
      "Search tech markets for ecoinvent_Remind_RCP26_2030.\n",
      "Check for consistent units across technologies.\n",
      "Add inventory flows to database.\n",
      "Add flows to activities.\n",
      "Search tech markets for ecoinvent_Remind_RCP37_2030.\n",
      "Check for consistent units across technologies.\n",
      "Add inventory flows to database.\n",
      "Add flows to activities.\n",
      "Search tech markets for ecoinvent_Remind_BAU_2050.\n",
      "Check for consistent units across technologies.\n",
      "Add inventory flows to database.\n",
      "Add flows to activities.\n",
      "Search tech markets for ecoinvent_Remind_RCP26_2050.\n",
      "Check for consistent units across technologies.\n",
      "Add inventory flows to database.\n",
      "Add flows to activities.\n",
      "Search tech markets for ecoinvent_Remind_RCP37_2050.\n",
      "Check for consistent units across technologies.\n",
      "Add inventory flows to database.\n",
      "Add flows to activities.\n"
     ]
    }
   ],
   "source": [
    "available_tech_markets = []\n",
    "for db in databases:\n",
    "    if db.startswith(\"ecoinvent_Remind_\"):\n",
    "        print(\"Search tech markets for {}.\".format(db))\n",
    "        \n",
    "        eidb = Database(db)\n",
    "        techno_markets = {\n",
    "            \"steel\": [act for act in eidb if \"market for steel,\" in act[\"name\"] and\n",
    "                    \"hot rolled\" not in act[\"name\"]],\n",
    "            \"concrete\": [act for act in eidb if \"market for concrete,\" in act[\"name\"]],\n",
    "            \"copper\": [act for act in eidb if \"market for copper\" == act[\"name\"]],\n",
    "            \"aluminium\": [act for act in eidb if \"market for aluminium, primary\" in act[\"name\"] or\n",
    "                \"market for aluminium alloy,\" in act[\"name\"]],\n",
    "            \"electricity\": [act for act in eidb if act[\"name\"].startswith(\"market for electricity\")],\n",
    "            \"gas\": [act for act in eidb if act[\"name\"].startswith(\"market for natural gas,\") and\n",
    "               not \"network\" in act[\"name\"] and\n",
    "               not \"burned\" in act[\"name\"]],\n",
    "            \"diesel\": [act for act in eidb if \"market for diesel\" in act[\"name\"] and\n",
    "                not \"burned\" in act[\"name\"] and\n",
    "                not \"electric\" in act[\"name\"]],\n",
    "            \"petrol\": [act for act in eidb if \"market for petrol,\" in act[\"name\"] and\n",
    "                not \"burned\" in act[\"name\"]],\n",
    "            \"freight\": [act for act in eidb if \"market for transport, freight\" in act[\"name\"]],\n",
    "            \"cement\": [act for act in eidb if act[\"name\"].startswith(\"market for cement,\")],\n",
    "            \"heat\": [act for act in eidb if act[\"name\"].startswith(\"market for heat,\")]\n",
    "        }\n",
    "        \n",
    "        available_tech_markets = list(techno_markets.keys())\n",
    "        \n",
    "        \n",
    "        print(\"Check for consistent units across technologies.\")\n",
    "        for kind, actlst in techno_markets.items():\n",
    "            for act in actlst:\n",
    "                if act[\"unit\"] != actlst[0][\"unit\"]:\n",
    "                    print(\"Activity `{}` of kind {} has unit {}.\".format(act, kind, act[\"unit\"]))\n",
    "                    raise(\"Units are not aligned!\")\n",
    "                    \n",
    "        print(\"Add inventory flows to database.\")\n",
    "        inventory = Database(\"Inventory flows\")\n",
    "        for kind in techno_markets:\n",
    "            if not [act for act in inventory if act[\"name\"] == kind]:\n",
    "                inventory.new_activity(kind, **{\n",
    "                    \"name\": kind,\n",
    "                    \"unit\": techno_markets[kind][0][\"unit\"],\n",
    "                    \"type\": \"inventory flow\",\n",
    "                    \"categories\": (\"inventory\",),\n",
    "                })\n",
    "            else:\n",
    "                print(\"Inventory flows already present.\")\n",
    "        \n",
    "        print(\"Add flows to activities.\")\n",
    "        for kind, actlst in techno_markets.items():\n",
    "            for act in actlst:\n",
    "            # clear exsiting exchanges\n",
    "            # [ex.delete() for ex in act.exchanges() if ex[\"input\"] == (\"Inventory flows\", kind)]\n",
    "                if not [ex for ex in act.exchanges() if ex[\"input\"] == (\"Inventory flows\", kind)]:\n",
    "                    act.new_exchange(**{\n",
    "                        'input': ('Inventory flows', kind),\n",
    "                        'type': 'biosphere',\n",
    "                        'amount': 1\n",
    "                    }).save()\n",
    "                else:\n",
    "                    print(\"Modified activities found. Skipping.\")"
   ]
  },
  {
   "cell_type": "code",
   "execution_count": 179,
   "metadata": {},
   "outputs": [
    {
     "name": "stdout",
     "output_type": "stream",
     "text": [
      "Search tech markets for ecoinvent_Remind_BAU_2030.\n",
      "Check for consistent units across technologies.\n",
      "Add inventory flows to database.\n",
      "Inventory flows already present.\n",
      "Add flows to activities.\n",
      "Search tech markets for ecoinvent_Remind_RCP26_2030.\n",
      "Check for consistent units across technologies.\n",
      "Add inventory flows to database.\n",
      "Inventory flows already present.\n",
      "Add flows to activities.\n",
      "Search tech markets for ecoinvent_Remind_RCP37_2030.\n",
      "Check for consistent units across technologies.\n",
      "Add inventory flows to database.\n",
      "Inventory flows already present.\n",
      "Add flows to activities.\n",
      "Search tech markets for ecoinvent_Remind_BAU_2050.\n",
      "Check for consistent units across technologies.\n",
      "Add inventory flows to database.\n",
      "Inventory flows already present.\n",
      "Add flows to activities.\n",
      "Search tech markets for ecoinvent_Remind_RCP26_2050.\n",
      "Check for consistent units across technologies.\n",
      "Add inventory flows to database.\n",
      "Inventory flows already present.\n",
      "Add flows to activities.\n",
      "Search tech markets for ecoinvent_Remind_RCP37_2050.\n",
      "Check for consistent units across technologies.\n",
      "Add inventory flows to database.\n",
      "Inventory flows already present.\n",
      "Add flows to activities.\n"
     ]
    }
   ],
   "source": [
    "ei2rmnd.add_REMIND_technosphere_flows(databases)"
   ]
  },
  {
   "cell_type": "code",
   "execution_count": null,
   "metadata": {},
   "outputs": [],
   "source": []
  }
 ],
 "metadata": {
  "kernelspec": {
   "display_name": "Python 3",
   "language": "python",
   "name": "python3"
  },
  "language_info": {
   "codemirror_mode": {
    "name": "ipython",
    "version": 3
   },
   "file_extension": ".py",
   "mimetype": "text/x-python",
   "name": "python",
   "nbconvert_exporter": "python",
   "pygments_lexer": "ipython3",
   "version": "3.6.6"
  }
 },
 "nbformat": 4,
 "nbformat_minor": 2
}
