{
 "cells": [
  {
   "cell_type": "markdown",
   "metadata": {
    "ein.tags": "worksheet-0",
    "slideshow": {
     "slide_type": "-"
    }
   },
   "source": [
    "# Set up Project"
   ]
  },
  {
   "cell_type": "code",
   "execution_count": 5,
   "metadata": {
    "autoscroll": false,
    "collapsed": false,
    "ein.hycell": false,
    "ein.tags": "worksheet-0",
    "slideshow": {
     "slide_type": "-"
    }
   },
   "outputs": [],
   "source": [
    "from matplotlib import pyplot as plt\n",
    "from brightway2 import *\n",
    "import numpy as np\n",
    "import pandas as pd\n"
   ]
  },
  {
   "cell_type": "code",
   "execution_count": 3,
   "metadata": {
    "autoscroll": false,
    "collapsed": false,
    "ein.hycell": false,
    "ein.tags": "worksheet-0",
    "slideshow": {
     "slide_type": "-"
    }
   },
   "outputs": [
    {
     "data": {
      "text/plain": [
       "Brightway2 projects manager with 5 objects:\n",
       "\tREMIND_ecoinvent_3.5\n",
       "\tbioenergy\n",
       "\tcoal_exit\n",
       "\tdefault\n",
       "\tenavi\n",
       "Use `projects.report()` to get a report on all projects."
      ]
     },
     "execution_count": 3,
     "metadata": {},
     "output_type": "execute_result"
    }
   ],
   "source": [
    "projects\n"
   ]
  },
  {
   "cell_type": "code",
   "execution_count": 35,
   "metadata": {
    "autoscroll": false,
    "collapsed": false,
    "ein.hycell": false,
    "ein.tags": "worksheet-0",
    "slideshow": {
     "slide_type": "-"
    }
   },
   "outputs": [],
   "source": [
    "# projects.create_project(\"bioenergy\")\n",
    "projects.set_current(\"bioenergy\")"
   ]
  },
  {
   "cell_type": "code",
   "execution_count": 36,
   "metadata": {
    "autoscroll": false,
    "collapsed": false,
    "ein.hycell": false,
    "ein.tags": "worksheet-0",
    "slideshow": {
     "slide_type": "-"
    }
   },
   "outputs": [
    {
     "name": "stdout",
     "output_type": "stream",
     "text": [
      "Biosphere database already present!!! No setup is needed\n"
     ]
    }
   ],
   "source": [
    "bw2setup()"
   ]
  },
  {
   "cell_type": "code",
   "execution_count": 37,
   "metadata": {
    "autoscroll": false,
    "collapsed": false,
    "ein.hycell": false,
    "ein.tags": "worksheet-0",
    "slideshow": {
     "slide_type": "-"
    }
   },
   "outputs": [
    {
     "name": "stdout",
     "output_type": "stream",
     "text": [
      "Added 0 new biosphere flows\n"
     ]
    },
    {
     "data": {
      "text/plain": [
       "Brightway2 SQLiteBackend: biosphere3"
      ]
     },
     "execution_count": 37,
     "metadata": {},
     "output_type": "execute_result"
    }
   ],
   "source": [
    "add_ecoinvent_35_biosphere_flows(version=\"36\")"
   ]
  },
  {
   "cell_type": "code",
   "execution_count": 38,
   "metadata": {
    "autoscroll": false,
    "collapsed": false,
    "ein.hycell": false,
    "ein.tags": "worksheet-0",
    "slideshow": {
     "slide_type": "-"
    }
   },
   "outputs": [],
   "source": [
    "from os.path import expanduser\n",
    "filepath = expanduser(\"/home/alois/ecoinvent/ecoinvent 3.6_cut-off_ecoSpold02/datasets/\")"
   ]
  },
  {
   "cell_type": "code",
   "execution_count": 39,
   "metadata": {
    "autoscroll": false,
    "collapsed": false,
    "ein.hycell": false,
    "ein.tags": "worksheet-0",
    "slideshow": {
     "slide_type": "-"
    }
   },
   "outputs": [],
   "source": [
    "if(\"ecoinvent_3.6\" not in databases):\n",
    "    ei = SingleOutputEcospold2Importer(filepath, \"ecoinvent_3.6\")\n",
    "    ei.apply_strategies()\n",
    "    ei.statistics()\n",
    "    ei.write_database()"
   ]
  },
  {
   "cell_type": "code",
   "execution_count": 40,
   "metadata": {
    "autoscroll": false,
    "collapsed": false,
    "ein.hycell": false,
    "ein.tags": "worksheet-0",
    "slideshow": {
     "slide_type": "-"
    }
   },
   "outputs": [
    {
     "data": {
      "text/plain": [
       "Databases dictionary with 4 object(s):\n",
       "\tbiofuels attributional\n",
       "\tbiosphere3\n",
       "\tecoinvent_3.5\n",
       "\tecoinvent_3.6"
      ]
     },
     "execution_count": 40,
     "metadata": {},
     "output_type": "execute_result"
    }
   ],
   "source": [
    "databases"
   ]
  },
  {
   "cell_type": "code",
   "execution_count": 41,
   "metadata": {
    "autoscroll": false,
    "collapsed": false,
    "ein.hycell": false,
    "ein.tags": "worksheet-0",
    "slideshow": {
     "slide_type": "-"
    }
   },
   "outputs": [
    {
     "name": "stdout",
     "output_type": "stream",
     "text": [
      "Extracted 61 unallocated datasets in 0.19 seconds\n",
      "61 datasets\n",
      "395 exchanges\n",
      "395 unlinked exchanges\n",
      "  Type biosphere: 5 unique unlinked exchanges\n",
      "  Type production: 61 unique unlinked exchanges\n",
      "  Type technosphere: 103 unique unlinked exchanges\n"
     ]
    },
    {
     "data": {
      "text/plain": [
       "(61, 395, 395)"
      ]
     },
     "execution_count": 41,
     "metadata": {},
     "output_type": "execute_result"
    }
   ],
   "source": [
    "franc = SimaProCSVImporter(\"../data/biofuels/francesco.CSV\", name=\"biofuels attributional\")\n",
    "franc.statistics()            "
   ]
  },
  {
   "cell_type": "code",
   "execution_count": 42,
   "metadata": {
    "autoscroll": false,
    "collapsed": false,
    "ein.hycell": false,
    "ein.tags": "worksheet-0",
    "slideshow": {
     "slide_type": "-"
    }
   },
   "outputs": [
    {
     "name": "stdout",
     "output_type": "stream",
     "text": [
      "Applying strategy: normalize_units\n",
      "Applying strategy: update_ecoinvent_locations\n",
      "Applying strategy: assign_only_product_as_production\n",
      "Applying strategy: drop_unspecified_subcategories\n",
      "Applying strategy: sp_allocate_products\n",
      "Applying strategy: fix_zero_allocation_products\n",
      "Applying strategy: split_simapro_name_geo\n",
      "Applying strategy: strip_biosphere_exc_locations\n",
      "Applying strategy: migrate_datasets\n",
      "Applying strategy: migrate_exchanges\n",
      "Applying strategy: set_code_by_activity_hash\n",
      "Applying strategy: link_technosphere_based_on_name_unit_location\n",
      "Applying strategy: change_electricity_unit_mj_to_kwh\n",
      "Applying strategy: set_lognormal_loc_value_uncertainty_safe\n",
      "Applying strategy: normalize_biosphere_categories\n",
      "Applying strategy: normalize_simapro_biosphere_categories\n",
      "Applying strategy: normalize_biosphere_names\n",
      "Applying strategy: normalize_simapro_biosphere_names\n",
      "Applying strategy: migrate_exchanges\n",
      "Applying strategy: fix_localized_water_flows\n",
      "Applying strategy: link_iterable_by_fields\n",
      "Applying strategy: convert_activity_parameters_to_list\n",
      "Applied 22 strategies in 0.27 seconds\n",
      "61 datasets\n",
      "395 exchanges\n",
      "255 unlinked exchanges\n",
      "  Type biosphere: 2 unique unlinked exchanges\n",
      "  Type technosphere: 60 unique unlinked exchanges\n"
     ]
    },
    {
     "data": {
      "text/plain": [
       "(61, 395, 255)"
      ]
     },
     "execution_count": 42,
     "metadata": {},
     "output_type": "execute_result"
    }
   ],
   "source": [
    "franc.apply_strategies()\n",
    "franc.statistics() "
   ]
  },
  {
   "cell_type": "code",
   "execution_count": 43,
   "metadata": {
    "autoscroll": false,
    "collapsed": false,
    "ein.hycell": false,
    "ein.tags": "worksheet-0",
    "slideshow": {
     "slide_type": "-"
    }
   },
   "outputs": [
    {
     "name": "stdout",
     "output_type": "stream",
     "text": [
      "Applying strategy: migrate_datasets\n",
      "Applying strategy: migrate_exchanges\n"
     ]
    }
   ],
   "source": [
    "franc.migrate(\"simapro-ecoinvent-3.3\")"
   ]
  },
  {
   "cell_type": "code",
   "execution_count": 44,
   "metadata": {
    "autoscroll": false,
    "collapsed": false,
    "ein.hycell": false,
    "ein.tags": "worksheet-0",
    "slideshow": {
     "slide_type": "-"
    }
   },
   "outputs": [
    {
     "name": "stdout",
     "output_type": "stream",
     "text": [
      "Applying strategy: link_iterable_by_fields\n",
      "61 datasets\n",
      "395 exchanges\n",
      "116 unlinked exchanges\n",
      "  Type biosphere: 2 unique unlinked exchanges\n",
      "  Type technosphere: 18 unique unlinked exchanges\n"
     ]
    },
    {
     "data": {
      "text/plain": [
       "(61, 395, 116)"
      ]
     },
     "execution_count": 44,
     "metadata": {},
     "output_type": "execute_result"
    }
   ],
   "source": [
    "franc.match_database(\"ecoinvent_3.6\", fields=['name', 'location', 'reference product', 'unit'])\n",
    "franc.statistics()"
   ]
  },
  {
   "cell_type": "code",
   "execution_count": 45,
   "metadata": {
    "autoscroll": false,
    "collapsed": false,
    "ein.hycell": false,
    "ein.tags": "worksheet-0",
    "slideshow": {
     "slide_type": "-"
    }
   },
   "outputs": [
    {
     "name": "stdout",
     "output_type": "stream",
     "text": [
      "Applying strategy: migrate_datasets\n",
      "Applying strategy: migrate_exchanges\n",
      "Applying strategy: link_iterable_by_fields\n",
      "61 datasets\n",
      "395 exchanges\n",
      "116 unlinked exchanges\n",
      "  Type biosphere: 2 unique unlinked exchanges\n",
      "  Type technosphere: 18 unique unlinked exchanges\n"
     ]
    },
    {
     "data": {
      "text/plain": [
       "(61, 395, 116)"
      ]
     },
     "execution_count": 45,
     "metadata": {},
     "output_type": "execute_result"
    }
   ],
   "source": [
    "technosphere_data = {\n",
    "    'fields': ['name','reference product'],\n",
    "    'data': [\n",
    "        (\n",
    "            ('electricity, high voltage, production mix', ('electricity, high voltage',)), \n",
    "            {\n",
    "                'name': ('market group for electricity, high voltage'), \n",
    "            }\n",
    "        ),\n",
    "        (\n",
    "            ('steam production in chemical industry', ('heat, in chemical industry',)), \n",
    "            {\n",
    "                'name': ('steam production, as energy carrier, in chemical industry'), \n",
    "                'reference product':('heat, from steam, in chemical industry')\n",
    "            }\n",
    "        ),\n",
    "        (\n",
    "            ('hard coal mine operation', ('hard coal',)), \n",
    "            {\n",
    "                'name': ('hard coal mine operation and hard coal preparation'), \n",
    "            }\n",
    "        )\n",
    "    ]\n",
    "}\n",
    "\n",
    "Migration(\"some technosphere\").write(\n",
    "    technosphere_data,\n",
    "    description=\"Change technosphere names due to change from 3.3 to 3.4\"\n",
    ")\n",
    "franc.migrate(\"some technosphere\")\n",
    "franc.match_database(\"ecoinvent_3.6\", fields=['name','location','reference product','unit'])\n",
    "franc.statistics()"
   ]
  },
  {
   "cell_type": "code",
   "execution_count": 46,
   "metadata": {
    "autoscroll": false,
    "collapsed": false,
    "ein.hycell": false,
    "ein.tags": "worksheet-0",
    "slideshow": {
     "slide_type": "-"
    }
   },
   "outputs": [
    {
     "name": "stdout",
     "output_type": "stream",
     "text": [
      "Applying strategy: migrate_datasets\n",
      "Applying strategy: migrate_exchanges\n",
      "Applying strategy: link_iterable_by_fields\n",
      "61 datasets\n",
      "395 exchanges\n",
      "54 unlinked exchanges\n",
      "  Type biosphere: 2 unique unlinked exchanges\n",
      "  Type technosphere: 5 unique unlinked exchanges\n"
     ]
    },
    {
     "data": {
      "text/plain": [
       "(61, 395, 54)"
      ]
     },
     "execution_count": 46,
     "metadata": {},
     "output_type": "execute_result"
    }
   ],
   "source": [
    "new_technosphere_data = {\n",
    "    'fields': ['name','reference product', 'location'],\n",
    "    'data': [\n",
    "        (\n",
    "            ('market for transport, freight, lorry >32 metric ton, EURO6', ('transport, freight, lorry >32 metric ton, EURO6',), 'GLO' ), \n",
    "            {\n",
    "                'location': ('RER'), \n",
    "            }\n",
    "        ),\n",
    "        \n",
    "        (\n",
    "            ('market for transport, freight, inland waterways, barge', ('transport, freight, inland waterways, barge',),'GLO' ), \n",
    "            {\n",
    "                'location': ('RER'),\n",
    "            }\n",
    "        ),\n",
    "        \n",
    "        (\n",
    "            ('market for heat, in chemical industry', ('heat, in chemical industry',), 'RER' ), \n",
    "            {\n",
    "                'name': ('market for heat, from steam, in chemical industry'),\n",
    "                'reference product': ('heat, from steam, in chemical industry')\n",
    "            }\n",
    "        ),\n",
    "        \n",
    "        (\n",
    "            ('market for transport, pipeline, onshore, petroleum', ('transport, pipeline, onshore, petroleum',), 'GLO' ), \n",
    "            {\n",
    "                'location': ('RER'),\n",
    "            }\n",
    "        ),\n",
    "        \n",
    "        (\n",
    "            ('market for ethanol, without water, in 99.7% solution state, from ethylene', ('ethanol, without water, in 99.7% solution state, from ethylene',), 'GLO' ), \n",
    "            {\n",
    "                'location': ('RER'),\n",
    "            }\n",
    "        ),\n",
    "        \n",
    "        (\n",
    "            ('market for sulfuric acid', ('sulfuric acid',), 'GLO' ), \n",
    "            {\n",
    "                'location': ('RER'),\n",
    "            }\n",
    "        ),\n",
    "        \n",
    "        (\n",
    "            ('market for transport, freight, lorry 7.5-16 metric ton, EURO6', ('transport, freight, lorry 7.5-16 metric ton, EURO6',), 'GLO' ), \n",
    "            {\n",
    "                'location': ('RER'),\n",
    "            }\n",
    "        ),\n",
    "        \n",
    "        (\n",
    "            ('market for quicklime, milled, packed', ('quicklime, milled, packed',), 'GLO' ), \n",
    "            {\n",
    "                'location': ('RER'),\n",
    "            }\n",
    "        ),\n",
    "        \n",
    "        (\n",
    "            ('market for transport, freight, inland waterways, barge', ('transport, freight, inland waterways, barge',), 'GLO' ), \n",
    "            {\n",
    "                'location': ('RER'),\n",
    "            }\n",
    "        ),\n",
    "        \n",
    "        (\n",
    "            ('citric acid production', ('lime',), 'CN' ), \n",
    "            {\n",
    "                'reference product': ('citric acid'), # not needed in migration to cut-off db\n",
    "            }\n",
    "        ),\n",
    "        \n",
    "        (\n",
    "            ('market for dolomite', ('dolomite',), 'GLO' ), \n",
    "            {\n",
    "                'location': ('RER'),\n",
    "            }\n",
    "        ),\n",
    "        \n",
    "        (\n",
    "            ('market for calcium chloride', ('calcium chloride',), 'GLO' ), \n",
    "            {\n",
    "                'location': ('RER'), \n",
    "            }\n",
    "        ),\n",
    "        \n",
    "    ]\n",
    "}\n",
    "\n",
    "Migration(\"migration_laurent\").write(\n",
    "    new_technosphere_data,\n",
    "    description=\"Change technosphere names due to change from 3.3 to 3.5\"\n",
    ")\n",
    "franc.migrate(\"migration_laurent\")\n",
    "franc.match_database(\"ecoinvent_3.6\", fields=['name','location','reference product','unit'])\n",
    "franc.statistics()"
   ]
  },
  {
   "cell_type": "code",
   "execution_count": 47,
   "metadata": {
    "autoscroll": false,
    "collapsed": false,
    "ein.hycell": false,
    "ein.tags": "worksheet-0",
    "slideshow": {
     "slide_type": "-"
    }
   },
   "outputs": [
    {
     "name": "stdout",
     "output_type": "stream",
     "text": [
      "Applying strategy: migrate_datasets\n",
      "Applying strategy: migrate_exchanges\n",
      "Applying strategy: link_iterable_by_fields\n",
      "61 datasets\n",
      "395 exchanges\n",
      "39 unlinked exchanges\n",
      "  Type biosphere: 2 unique unlinked exchanges\n"
     ]
    },
    {
     "data": {
      "text/plain": [
       "(61, 395, 39)"
      ]
     },
     "execution_count": 47,
     "metadata": {},
     "output_type": "execute_result"
    }
   ],
   "source": [
    "new_technosphere_data = {\n",
    "    'fields': ['name','reference product', 'location'],\n",
    "    'data': [\n",
    "        (\n",
    "            ('market for transport, freight, sea, transoceanic tanker', ('transport, freight, sea, transoceanic tanker',), 'GLO' ), \n",
    "            {\n",
    "                'name': ('market for transport, freight, sea, tanker for liquid goods other than petroleum and liquefied natural gas'), \n",
    "                'reference product': ('transport, freight, sea, tanker for liquid goods other than petroleum and liquefied natural gas'),\n",
    "            }\n",
    "        ),\n",
    "        (\n",
    "            ('market for water, decarbonised, at user', ('water, decarbonised, at user',), 'GLO'),\n",
    "            {\n",
    "                'name': ('market for water, decarbonised'),\n",
    "                'reference product': ('water, decarbonised'),\n",
    "                'location': ('DE'),\n",
    "            }\n",
    "        ),\n",
    "        (\n",
    "            ('market for water, completely softened, from decarbonised water, at user', ('water, completely softened, from decarbonised water, at user',), 'GLO'),\n",
    "            {\n",
    "                'name': ('market for water, completely softened'),\n",
    "                'reference product': ('water, completely softened'),\n",
    "                'location': ('RER'),\n",
    "            }\n",
    "        ),\n",
    "        (\n",
    "            ('market for concrete block', ('concrete block',), 'GLO'),\n",
    "            {\n",
    "                'location': ('DE'),\n",
    "            }\n",
    "        )\n",
    "    ]\n",
    "}\n",
    "\n",
    "Migration(\"migration_alois\").write(\n",
    "    new_technosphere_data,\n",
    "    description=\"Change technosphere names due to change from 3.5 to 3.6\"\n",
    ")\n",
    "franc.migrate(\"migration_alois\")\n",
    "franc.match_database(\"ecoinvent_3.6\", fields=['name','location','reference product','unit'])\n",
    "franc.statistics()"
   ]
  },
  {
   "cell_type": "code",
   "execution_count": 48,
   "metadata": {
    "autoscroll": false,
    "collapsed": false,
    "ein.hycell": false,
    "ein.tags": "worksheet-0",
    "slideshow": {
     "slide_type": "-"
    }
   },
   "outputs": [
    {
     "name": "stdout",
     "output_type": "stream",
     "text": [
      "Applying strategy: migrate_datasets\n",
      "Applying strategy: migrate_exchanges\n",
      "Applying strategy: link_iterable_by_fields\n",
      "61 datasets\n",
      "395 exchanges\n",
      "0 unlinked exchanges\n",
      "  \n"
     ]
    },
    {
     "data": {
      "text/plain": [
       "(61, 395, 0)"
      ]
     },
     "execution_count": 48,
     "metadata": {},
     "output_type": "execute_result"
    }
   ],
   "source": [
    "biosphere_data = {\n",
    "    'fields': ['name','categories'],\n",
    "    'data': [\n",
    "        (\n",
    "            ('Methane', ('air',)), \n",
    "            {\n",
    "                'categories': ('air', 'urban air close to ground')\n",
    "                \n",
    "            }\n",
    "        ),\n",
    "        (\n",
    "            ('Carbon dioxide', ('air',)), \n",
    "            {\n",
    "                'name': ('Carbon dioxide, fossil') \n",
    "               \n",
    "            }\n",
    "        ),\n",
    "    ]\n",
    "}\n",
    "\n",
    "Migration(\"some biosphere\").write(\n",
    "    biosphere_data,\n",
    "    description=\"Change biosphere\"\n",
    ")\n",
    "franc.migrate(\"some biosphere\")\n",
    "franc.match_database(\"biosphere3\", fields=['name','categories','unit'])\n",
    "franc.statistics()"
   ]
  },
  {
   "cell_type": "code",
   "execution_count": 22,
   "metadata": {
    "autoscroll": false,
    "collapsed": false,
    "ein.hycell": false,
    "ein.tags": "worksheet-0",
    "slideshow": {
     "slide_type": "-"
    }
   },
   "outputs": [
    {
     "name": "stderr",
     "output_type": "stream",
     "text": [
      "Writing activities to SQLite3 database:\n",
      "0% [##############################] 100% | ETA: 00:00:00\n",
      "Total time elapsed: 00:00:00\n"
     ]
    },
    {
     "name": "stdout",
     "output_type": "stream",
     "text": [
      "Title: Writing activities to SQLite3 database:\n",
      "  Started: 09/30/2019 16:19:15\n",
      "  Finished: 09/30/2019 16:19:15\n",
      "  Total time elapsed: 00:00:00\n",
      "  CPU %: 82.60\n",
      "  Memory %: 1.67\n",
      "Created database: biofuels attributional\n"
     ]
    }
   ],
   "source": [
    "franc.write_database()\n",
    "franc = Database(\"biofuels attributional\")"
   ]
  },
  {
   "cell_type": "code",
   "execution_count": 50,
   "metadata": {
    "autoscroll": false,
    "collapsed": false,
    "ein.hycell": false,
    "ein.tags": "worksheet-0",
    "slideshow": {
     "slide_type": "-"
    }
   },
   "outputs": [],
   "source": [
    "eidb = Database(\"ecoinvent_3.6\")"
   ]
  },
  {
   "cell_type": "code",
   "execution_count": 51,
   "metadata": {
    "autoscroll": false,
    "collapsed": false,
    "ein.hycell": false,
    "ein.tags": "worksheet-0",
    "slideshow": {
     "slide_type": "-"
    }
   },
   "outputs": [
    {
     "data": {
      "text/plain": [
       "[]"
      ]
     },
     "execution_count": 51,
     "metadata": {},
     "output_type": "execute_result"
    }
   ],
   "source": [
    "[act for act in eidb if \"algae cultivation\" in act[\"name\"]]"
   ]
  },
  {
   "cell_type": "code",
   "execution_count": null,
   "metadata": {
    "autoscroll": false,
    "collapsed": false,
    "ein.hycell": false,
    "ein.tags": "worksheet-0",
    "slideshow": {
     "slide_type": "-"
    }
   },
   "outputs": [],
   "source": []
  }
 ],
 "metadata": {
  "kernelspec": {
   "argv": [
    "python",
    "-m",
    "ipykernel_launcher",
    "-f",
    "{connection_file}"
   ],
   "display_name": "Python 3",
   "env": null,
   "interrupt_mode": "signal",
   "language": "python",
   "metadata": null,
   "name": "python3"
  },
  "language_info": {
   "codemirror_mode": {
    "name": "ipython",
    "version": 3
   },
   "file_extension": ".py",
   "mimetype": "text/x-python",
   "name": "python",
   "nbconvert_exporter": "python",
   "pygments_lexer": "ipython3",
   "version": "3.6.9"
  },
  "name": "Import Bioenergy Datasets.ipynb"
 },
 "nbformat": 4,
 "nbformat_minor": 2
}
